{
 "cells": [
  {
   "cell_type": "markdown",
   "id": "b1fad908-d76b-49f9-accf-2e4033b2edd5",
   "metadata": {},
   "source": [
    "<img src=\"../../images/banners/introduction.png\" width=\"600\"/>"
   ]
  },
  {
   "cell_type": "markdown",
   "id": "52265cc4-8e0c-47fb-944a-8579462cf517",
   "metadata": {},
   "source": [
    "# <img src=\"../../images/logos/linux-terminal.jpeg\" width=\"23\"/> Linux Command Structure \n"
   ]
  },
  {
   "cell_type": "markdown",
   "id": "0aa7bdf7-85e6-4376-ad53-647d130f8032",
   "metadata": {},
   "source": [
    "## <img src=\"../../images/logos/toc.png\" width=\"20\"/> Table of Contents \n",
    "* [Opening a terminal](#opening_a_terminal)\n",
    "* [A sense of location](#a_sense_of_location)\n",
    "* [Relative and absolute paths](#relative_and_absolute_paths)\n",
    "\n",
    "---"
   ]
  },
  {
   "cell_type": "markdown",
   "id": "4143afbe-2bb9-4347-8397-ea9ba0f2cdae",
   "metadata": {},
   "source": [
    "By the end of this section, commands will begin to look like a langauge not random gibberish."
   ]
  },
  {
   "cell_type": "markdown",
   "id": "f71a24ad-2083-4ac9-89cf-c77169e9b1db",
   "metadata": {},
   "source": [
    "Right now each command has its own unique behavior. You can actually look up using something called the manual pages which I'll show you how to do later."
   ]
  },
  {
   "cell_type": "markdown",
   "id": "c2aa9391-43e6-4886-b6be-2cfa86e948c6",
   "metadata": {},
   "source": [
    "But the general command structure goes like this.\n",
    "1. You type out the command name. So it would be like `date` or `echo`.\n",
    "2. Then you give the comments of options to customize its behavior.\n",
    "3. Then you give the command some inputs to actually operate on."
   ]
  },
  {
   "cell_type": "markdown",
   "id": "b73b0186-5ae8-4b61-baf7-5eeeb053f414",
   "metadata": {},
   "source": [
    "```bash\n",
    "command_name -options inputs\n",
    "```"
   ]
  },
  {
   "cell_type": "markdown",
   "id": "307d1598-5162-4801-a5bd-bd1d01104cc5",
   "metadata": {},
   "source": [
    "## Command Name"
   ]
  },
  {
   "cell_type": "markdown",
   "id": "a68b9a85-39f9-438c-ab42-731386eb1e89",
   "metadata": {},
   "source": [
    "Now the first thing you type is the command name. Now that lets the shell know what program you actually want to run. And once the Shell knows what program you want to run it knows the name of the program you want to run the show will then search for that program on something called your Shell's path which is just a list of folders that contain these programs."
   ]
  },
  {
   "cell_type": "markdown",
   "id": "a3c5e5f7-e49e-4af0-af2c-a561ad7bdd48",
   "metadata": {},
   "source": [
    "Now you can actually see your Shell's path by typing `echo $PATH`. So what the shell will do is it'll start at the very left of the path and it will look inside that folder for a command called `echo`. If it's not found, it will do the same on the next folder and so on and so forth."
   ]
  },
  {
   "cell_type": "markdown",
   "id": "f34d4914-0b81-4bf8-9be8-8c79f619618b",
   "metadata": {},
   "source": [
    "**Note**: If two programs with the same name are in different folders of `$PATH`, the one in the far left folder will always run."
   ]
  },
  {
   "cell_type": "markdown",
   "id": "170030de-0959-4c7a-9de2-79208645ccf4",
   "metadata": {},
   "source": [
    "Now you can actually see which folder the command is stored in by using the `which` command:\n",
    "- `which cal` --> `/usr/bin/cal`\n",
    "- `which date` --> `/usr/bin/date`"
   ]
  },
  {
   "cell_type": "markdown",
   "id": "2d6d5c5a-015e-473e-a4d3-ce3107a5ecd0",
   "metadata": {},
   "source": [
    "Now you can customize the way that commands work by giving them different **options** and different **inputs**."
   ]
  },
  {
   "cell_type": "markdown",
   "id": "edd9e67c-624a-4771-8ac5-177dcd00d597",
   "metadata": {},
   "source": [
    "## Inputs"
   ]
  },
  {
   "cell_type": "markdown",
   "id": "af5daa1d-cef2-4a3c-9c6b-eb25aa8cffe8",
   "metadata": {},
   "source": [
    "It's important to note that not all commands actually require inputs. Some inputs are optional. For example the date command doesn't strictly require an input.\n",
    "\n",
    "**Note**: Because commands **operate** on the input the input is sometimes called an **operand**.\n",
    "\n",
    "So for example if we take the cow command I could just type cow OK and press enter and I would get this month's calendar. But to customize the behavior I can give it one or more inputs: `cal 2021`, `cal 12 2017`"
   ]
  },
  {
   "cell_type": "markdown",
   "id": "17219fec-c8b6-47c4-87aa-ae0566318dd9",
   "metadata": {},
   "source": [
    "## Options"
   ]
  },
  {
   "cell_type": "markdown",
   "id": "1c7f0954-36c8-476f-aff5-bc0022746a45",
   "metadata": {},
   "source": [
    "That's common for commands to be preceded by dashes and hyphens and things: `cal -y`, `date -u` (UTC time)\n",
    "\n",
    "So sometimes options actually have long form names proceded by `--`: `date --universal`\n",
    "\n",
    "**Note:** The long form commands can make commands easier to read but they're not available for all options. It really depends upon the command that you're using.\n",
    "\n",
    "Now the only other thing to know is that sometimes options can have their own inputs. For example there is an option that will allow us to see a certain amount of months after a time:\n",
    "- `cal -A 1 12 2017` --> 1 month after (`-A`) December (12) 2017\n",
    "- `cal -B 1 12 2017` --> 1 month before (`-B`) December (12) 2017\n",
    "- `cal -A 1 -B 1 12 2017` --> 1 month after (`-A`) and before (`-B`) December (12) 2017"
   ]
  },
  {
   "cell_type": "markdown",
   "id": "f3346acc-013f-4753-be96-6e017ac82e54",
   "metadata": {},
   "source": [
    "## Summary\n",
    "- Command: `command_name -options inputs`\n",
    "- Command name must be on the shell's **search path** (`$PATH`).\n",
    "- Commands operate on inputs.\n",
    "- Options modify command's behaviour"
   ]
  }
 ],
 "metadata": {
  "kernelspec": {
   "display_name": "Python 3",
   "language": "python",
   "name": "python3"
  },
  "language_info": {
   "codemirror_mode": {
    "name": "ipython",
    "version": 3
   },
   "file_extension": ".py",
   "mimetype": "text/x-python",
   "name": "python",
   "nbconvert_exporter": "python",
   "pygments_lexer": "ipython3",
   "version": "3.8.11"
  }
 },
 "nbformat": 4,
 "nbformat_minor": 5
}
